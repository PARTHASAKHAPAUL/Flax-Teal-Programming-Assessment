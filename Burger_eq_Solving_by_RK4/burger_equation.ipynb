{
 "cells": [
  {
   "cell_type": "code",
   "execution_count": 56,
   "id": "391fe6d5",
   "metadata": {},
   "outputs": [
    {
     "name": "stdout",
     "output_type": "stream",
     "text": [
      "Step\tu[0]\tu[1]\tu[2]\tu[3]\tu[4]\tu[5]\tu[6]\tu[7]\tu[8]\tu[9]\n",
      "----\t-------\t-------\t-------\t-------\t-------\t-------\t-------\t-------\t-------\t-------\n",
      "0\t0.0146\t0.5893\t0.9531\t0.8979\t0.3725\t-0.3725\t-0.8979\t-0.9531\t-0.5893\t-0.0146\n",
      "1\t0.0264\t0.5436\t0.9174\t0.9249\t0.4063\t-0.4063\t-0.9249\t-0.9174\t-0.5436\t-0.0264\n",
      "2\t0.0359\t0.5045\t0.8793\t0.9463\t0.4437\t-0.4437\t-0.9463\t-0.8793\t-0.5045\t-0.0359\n",
      "3\t0.0436\t0.4708\t0.8403\t0.9615\t0.4850\t-0.4850\t-0.9615\t-0.8403\t-0.4708\t-0.0436\n",
      "4\t0.0497\t0.4416\t0.8014\t0.9703\t0.5305\t-0.5305\t-0.9703\t-0.8014\t-0.4416\t-0.0497\n",
      "5\t0.0546\t0.4161\t0.7635\t0.9725\t0.5804\t-0.5804\t-0.9725\t-0.7635\t-0.4161\t-0.0546\n",
      "6\t0.0585\t0.3937\t0.7270\t0.9682\t0.6351\t-0.6351\t-0.9682\t-0.7270\t-0.3937\t-0.0585\n",
      "7\t0.0615\t0.3740\t0.6924\t0.9577\t0.6952\t-0.6952\t-0.9577\t-0.6924\t-0.3740\t-0.0615\n",
      "8\t0.0638\t0.3564\t0.6600\t0.9412\t0.7611\t-0.7611\t-0.9412\t-0.6600\t-0.3564\t-0.0638\n",
      "9\t0.0656\t0.3406\t0.6299\t0.9193\t0.8337\t-0.8337\t-0.9193\t-0.6299\t-0.3406\t-0.0656\n"
     ]
    }
   ],
   "source": [
    "import numpy as np\n",
    "\n",
    "def burgers_equation(u, dx, nu):\n",
    "    # Calculate the first derivative of u w.r.t x using central difference\n",
    "    ux = (np.concatenate([u[1:], [u[0]]]) - np.concatenate([[u[-1]], u[:-1]])) / (2 * dx)\n",
    "    # Calculate the second derivative of u w.r.t x using central difference\n",
    "    uxx = (np.concatenate([u[1:], [u[0]]]) - 2 * u + np.concatenate([[u[-1]], u[:-1]])) / dx**2\n",
    "    \n",
    "    # Calculate the right hand side of Burgers' equation\n",
    "    return -u * ux + nu * uxx\n",
    "\n",
    "def rk4_step(u, dx, dt, nu):\n",
    "    # Calculate the first intermediate step (k1) of the RK4 method\n",
    "    k1 = burgers_equation(u, dx, nu)\n",
    "    # Calculate the second intermediate step (k2) using k1\n",
    "    k2 = burgers_equation(u + dt/2 * k1, dx, nu)\n",
    "    # Calculate the third intermediate step (k3) using k2\n",
    "    k3 = burgers_equation(u + dt/2 * k2, dx, nu)\n",
    "    # Calculate the fourth intermediate step (k4) using k3\n",
    "    k4 = burgers_equation(u + dt * k3, dx, nu)\n",
    "    \n",
    "    # Combine all intermediate T to Calculate the next time step value of u\n",
    "    return u + dt/6 * (k1 + 2*k2 + 2*k3 + k4)\n",
    "\n",
    "# Parameters:\n",
    "L = 2 * np.pi  # Length of the space domain\n",
    "N = 10  # Number of grid points in space domain\n",
    "dx = L / N  # Distance between grid points\n",
    "nu = 0.1  # Viscosity coefficient\n",
    "dt = 0.1  # Time step size\n",
    "T = int(1 / dt)  # Total number of time steps\n",
    "\n",
    "# Initial condition:\n",
    "x = np.linspace(0, L, N)\n",
    "u = np.sin(x)\n",
    "\n",
    "# Print the table header for visualization of u values\n",
    "print(\"Step\\t\" + \"\\t\".join([f\"u[{i}]\" for i in range(N)]))\n",
    "print(\"----\\t\" + \"\\t\".join([\"-------\" for _ in range(N)]))\n",
    "\n",
    "# Evaluation using the RK4 method\n",
    "for step in range(T):\n",
    "    u = rk4_step(u, dx, dt, nu)\n",
    "    # Print the current state of u for each time step in a tablau manner\n",
    "    print(f\"{step}\\t\" + \"\\t\".join([f\"{val:.4f}\" for val in u]))\n"
   ]
  }
 ],
 "metadata": {
  "kernelspec": {
   "display_name": "Python 3 (ipykernel)",
   "language": "python",
   "name": "python3"
  },
  "language_info": {
   "codemirror_mode": {
    "name": "ipython",
    "version": 3
   },
   "file_extension": ".py",
   "mimetype": "text/x-python",
   "name": "python",
   "nbconvert_exporter": "python",
   "pygments_lexer": "ipython3",
   "version": "3.10.7"
  }
 },
 "nbformat": 4,
 "nbformat_minor": 5
}
