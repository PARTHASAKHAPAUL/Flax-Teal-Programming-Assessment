{
 "cells": [
  {
   "cell_type": "markdown",
   "id": "461dc04f",
   "metadata": {},
   "source": [
    "# Solving the given differential equation using the RK4 method:\n",
    "\n",
    "    dy/dt = 1 - t^2 + y"
   ]
  },
  {
   "cell_type": "code",
   "execution_count": 62,
   "id": "e90a8e63",
   "metadata": {},
   "outputs": [
    {
     "name": "stdout",
     "output_type": "stream",
     "text": [
      "The solution of the given differential equation at t = 0.00, is: y = 0.5000\n",
      "The solution of the given differential equation at t = 0.20, is: y = 0.8293\n",
      "The solution of the given differential equation at t = 0.40, is: y = 1.2141\n",
      "The solution of the given differential equation at t = 0.60, is: y = 1.6489\n",
      "The solution of the given differential equation at t = 0.80, is: y = 2.1272\n",
      "The solution of the given differential equation at t = 1.00, is: y = 2.6408\n",
      "The solution of the given differential equation at t = 1.20, is: y = 3.1799\n",
      "The solution of the given differential equation at t = 1.40, is: y = 3.7323\n",
      "The solution of the given differential equation at t = 1.60, is: y = 4.2834\n",
      "The solution of the given differential equation at t = 1.80, is: y = 4.8151\n",
      "The solution of the given differential equation at t = 2.00, is: y = 5.3054\n"
     ]
    }
   ],
   "source": [
    "\"\"\"Given the differential equation dy/dt = 1 - t^2 + y\"\"\"\n",
    "def f(t, y):\n",
    "    return 1 - t**2 + y\n",
    "\n",
    "\"\"\"Defining the RK4 method\"\"\"\n",
    "def rk4(t_start, y0, t_end, n):\n",
    "    # Calculating step size\n",
    "    h = (t_end - t_start) / n\n",
    "    \n",
    "    # Initializing two lists to store time and solution values\n",
    "    t_values = [t_start]\n",
    "    y_values = [y0]\n",
    "    \n",
    "    # Assigning initial values of t and y\n",
    "    t = t_start\n",
    "    y = y0\n",
    "    \n",
    "    # RK4 iterative method\n",
    "    for _ in range(n):\n",
    "        # Rk4 Method::\n",
    "        k1 = h * f(t, y)\n",
    "        k2 = h * f(t + 0.5*h, y + 0.5*k1)\n",
    "        k3 = h * f(t + 0.5*h, y + 0.5*k2)\n",
    "        k4 = h * f(t + h, y + k3)\n",
    "        \n",
    "        y += (k1 + 2*k2 + 2*k3 + k4) / 6\n",
    "        t += h\n",
    "        \n",
    "#         print(t,y)\n",
    "        # Storing the computed value of y along with the corresponding time step in the corresponding lists that defined earlier \n",
    "        y_values.append(y)\n",
    "        t_values.append(t)\n",
    "    \n",
    "    return t_values, y_values\n",
    "\n",
    "# Given all the parameters as follows:\n",
    "t_start = 0.0\n",
    "t_end = 2.0\n",
    "n = 10\n",
    "# Given the initial condition as follows:\n",
    "y0 = 0.5\n",
    "\n",
    "\n",
    "# Solving the IVP by all the given conditions\n",
    "t_vals, y_vals = rk4(t_start, y0, t_end, n)\n",
    "\n",
    "# Printing the results\n",
    "for t, y in zip(t_vals, y_vals):\n",
    "    print(f\"The solution of the given differential equation at t = {t:.2f}, is: y = {y:.4f}\")"
   ]
  },
  {
   "cell_type": "code",
   "execution_count": null,
   "id": "722e4b94",
   "metadata": {},
   "outputs": [],
   "source": []
  },
  {
   "cell_type": "code",
   "execution_count": null,
   "id": "9f45805e",
   "metadata": {},
   "outputs": [],
   "source": []
  }
 ],
 "metadata": {
  "kernelspec": {
   "display_name": "Python 3 (ipykernel)",
   "language": "python",
   "name": "python3"
  },
  "language_info": {
   "codemirror_mode": {
    "name": "ipython",
    "version": 3
   },
   "file_extension": ".py",
   "mimetype": "text/x-python",
   "name": "python",
   "nbconvert_exporter": "python",
   "pygments_lexer": "ipython3",
   "version": "3.10.7"
  }
 },
 "nbformat": 4,
 "nbformat_minor": 5
}
